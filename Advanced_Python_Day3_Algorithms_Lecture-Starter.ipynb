{
 "cells": [
  {
   "cell_type": "markdown",
   "metadata": {},
   "source": [
    "# Classic Algorithms"
   ]
  },
  {
   "cell_type": "markdown",
   "metadata": {},
   "source": [
    "## Tasks Today:\n",
    " \n",
    "1) <b>In-Place Algorithms</b> <br>\n",
    " &nbsp;&nbsp;&nbsp;&nbsp; a) Syntax <br>\n",
    " &nbsp;&nbsp;&nbsp;&nbsp; a) Out of Place Algorithm <br>\n",
    " &nbsp;&nbsp;&nbsp;&nbsp; b) In-Class Exercise #1 <br>\n",
    "2) <b>Two Pointers</b> <br>\n",
    "3) <b>Sorting Algorithms</b> <br>\n",
    "4) <b>Merge Sort</b> <br>\n",
    " &nbsp;&nbsp;&nbsp;&nbsp; a) Video on Algorithms <br>\n",
    " &nbsp;&nbsp;&nbsp;&nbsp; b) How it Works <br>\n",
    "5) <b>Exercises</b> <br>\n",
    " &nbsp;&nbsp;&nbsp;&nbsp; a) Exercise #1 - Reverse a List in Place Using an In-Place Algorithm <br>\n",
    " &nbsp;&nbsp;&nbsp;&nbsp; b) Exercise #2 - Find Distinct Words <br>\n",
    " &nbsp;&nbsp;&nbsp;&nbsp; c) Exercise #3 - Write a program to implement a Linear Search Algorithm. <br>"
   ]
  },
  {
   "cell_type": "code",
   "execution_count": 8,
   "metadata": {},
   "outputs": [
    {
     "name": "stdout",
     "output_type": "stream",
     "text": [
      "0\n",
      "0\n"
     ]
    }
   ],
   "source": [
    "def find_first_index(a_list):\n",
    "    return a_list[0]\n",
    "\n",
    "print(find_first_index([i for i in range(10)]))\n",
    "print(find_first_index([i for i in range(100000)]))\n"
   ]
  },
  {
   "cell_type": "code",
   "execution_count": 9,
   "metadata": {},
   "outputs": [
    {
     "name": "stdout",
     "output_type": "stream",
     "text": [
      "0 0\n",
      "0 1\n",
      "0 2\n",
      "1 0\n",
      "1 1\n",
      "1 2\n",
      "2 0\n",
      "2 1\n",
      "2 2\n"
     ]
    },
    {
     "data": {
      "text/plain": [
       "3"
      ]
     },
     "execution_count": 9,
     "metadata": {},
     "output_type": "execute_result"
    }
   ],
   "source": [
    "def count_operations(n):\n",
    "    num_operations = 0\n",
    "    for i in range(n):\n",
    "        for j in range(n):\n",
    "            print(i, j)\n",
    "        num_operations += 1\n",
    "    return num_operations\n",
    "\n",
    "count_operations(3)"
   ]
  },
  {
   "cell_type": "code",
   "execution_count": 14,
   "metadata": {},
   "outputs": [
    {
     "name": "stdout",
     "output_type": "stream",
     "text": [
      "140218737750784\n",
      "[1, 2, 3, 4, 5, 7, 8, 9]\n",
      "140218724719424\n"
     ]
    }
   ],
   "source": [
    "my_list = [2, 3, 7, 9, 1, 5, 8, 4]\n",
    "print(id(my_list))\n",
    "def sort_my_list_in_place(a_list):\n",
    "    a_list.sort()\n",
    "    \n",
    "def sort_my_list_out_of_place(a_list):\n",
    "    return sorted(a_list)\n",
    "\n",
    "new_list = sort_my_list_out_of_place(my_list)\n",
    "print(new_list)\n",
    "print(id(new_list))"
   ]
  },
  {
   "cell_type": "markdown",
   "metadata": {},
   "source": [
    "## In-Place Algorithms"
   ]
  },
  {
   "cell_type": "markdown",
   "metadata": {},
   "source": [
    "#### Syntax"
   ]
  },
  {
   "cell_type": "code",
   "execution_count": 18,
   "metadata": {},
   "outputs": [
    {
     "name": "stdout",
     "output_type": "stream",
     "text": [
      "Before swap: [1, 2, 3, 4, 5]\n",
      "After swap: [5, 2, 3, 4, 5]\n"
     ]
    }
   ],
   "source": [
    "list1 = [1, 2, 3, 4, 5]\n",
    "\n",
    "def swap(a_list, index_a, index_b):\n",
    "    a_list[index_a] = a_list[index_b]\n",
    "    a_list[index_b] = a_list[index_a]\n",
    "\n",
    "print('Before swap:', list1)\n",
    "swap(list1, 0, 4)\n",
    "print('After swap:', list1)"
   ]
  },
  {
   "cell_type": "code",
   "execution_count": 19,
   "metadata": {},
   "outputs": [
    {
     "name": "stdout",
     "output_type": "stream",
     "text": [
      "a: 1\n",
      "b: 2\n",
      "c: 3\n"
     ]
    }
   ],
   "source": [
    "# a_list[a], a_list[b] = a_list[b], a_list[a]\n",
    "\n",
    "a, b, c = 1, 2, 3\n",
    "print('a:', a)\n",
    "print('b:', b)\n",
    "print('c:', c)"
   ]
  },
  {
   "cell_type": "code",
   "execution_count": 23,
   "metadata": {},
   "outputs": [
    {
     "name": "stdout",
     "output_type": "stream",
     "text": [
      "Before swap: [10, 20, 30, 40, 50]\n",
      "After swap: [10, 20, 30, 40, 50]\n"
     ]
    }
   ],
   "source": [
    "def swap2(a_list, index_a, index_b):\n",
    "    a_list[index_a], a_list[index_b], a_list[index_a]\n",
    "    \n",
    "list2 = [10, 20, 30, 40, 50]\n",
    "\n",
    "print('Before swap:', list2)\n",
    "swap2(list2, 0, 4)\n",
    "print('After swap:', list2)"
   ]
  },
  {
   "cell_type": "markdown",
   "metadata": {},
   "source": [
    "#### Out of Place Algorithm"
   ]
  },
  {
   "cell_type": "code",
   "execution_count": null,
   "metadata": {},
   "outputs": [],
   "source": [
    "def out_of_place_swap(original_list, index1, index2):\n",
    "    new_list = original_list[:]\n",
    "    new_list[index1] = original_list[index_2]\n",
    "    new_list[index_2] = original_list[index_1]\n",
    "    return new_list\n",
    "\n",
    "list3 = ['blue', 'orange', 'yellow', 'green', 'red', 'purple', 'pink']"
   ]
  },
  {
   "cell_type": "code",
   "execution_count": null,
   "metadata": {},
   "outputs": [],
   "source": []
  },
  {
   "cell_type": "code",
   "execution_count": null,
   "metadata": {},
   "outputs": [],
   "source": []
  },
  {
   "cell_type": "code",
   "execution_count": null,
   "metadata": {},
   "outputs": [],
   "source": []
  },
  {
   "cell_type": "markdown",
   "metadata": {},
   "source": [
    "#### In-Class Exercise #1 <br>\n",
    "<p>Write a function that takes in four arguments (a_list, index1, index2, index3), and swaps those three positions in the list passed in in-place.</p>"
   ]
  },
  {
   "cell_type": "code",
   "execution_count": 35,
   "metadata": {},
   "outputs": [
    {
     "data": {
      "text/plain": [
       "[2, 1, 3, 4, 5, 6]"
      ]
     },
     "execution_count": 35,
     "metadata": {},
     "output_type": "execute_result"
    }
   ],
   "source": [
    "test_list = [1, 2, 3, 4, 5, 6]\n",
    "\n",
    "def swap_three(a_list, index1, index2, index3):\n",
    "    a_list[index1], a_list[index2], a_list[index3] = a_list[index2], a_list[index1], a_list[index3]\n",
    "    return a_list\n",
    "\n",
    "swap_three(test_list, 0, 1, 2)\n",
    "# swap_three([1, 2, 3, 4, 5, 6], 1, 2, 4) #[1, 5, 2, 4, 3, 6]"
   ]
  },
  {
   "cell_type": "markdown",
   "metadata": {},
   "source": [
    "## Two Pointers"
   ]
  },
  {
   "cell_type": "markdown",
   "metadata": {},
   "source": [
    "#### Syntax"
   ]
  },
  {
   "cell_type": "code",
   "execution_count": 36,
   "metadata": {},
   "outputs": [
    {
     "data": {
      "text/plain": [
       "[10, 9, 8, 7, 6, 5, 4, 3, 2, 1]"
      ]
     },
     "execution_count": 36,
     "metadata": {},
     "output_type": "execute_result"
    }
   ],
   "source": [
    "def swap_with_pointers(a_list):\n",
    "    left = 0\n",
    "    right = len(a_list) - 1\n",
    "    while left < right:\n",
    "        a_list[left], a_list[right] = a_list[right], a_list[left]\n",
    "        left += 1\n",
    "        right -= 1\n",
    "    return a_list\n",
    "\n",
    "my_forward_list = [1, 2, 3, 4, 5, 6, 7, 8, 9, 10]\n",
    "swap_with_pointers(my_forward_list)"
   ]
  },
  {
   "cell_type": "code",
   "execution_count": 37,
   "metadata": {},
   "outputs": [
    {
     "name": "stdout",
     "output_type": "stream",
     "text": [
      "[10, 9, 8, 7, 6, 5, 4, 3, 2, 1]\n"
     ]
    }
   ],
   "source": [
    "print(my_forward_list)"
   ]
  },
  {
   "cell_type": "markdown",
   "metadata": {},
   "source": [
    "# Sorting Algorithms"
   ]
  },
  {
   "cell_type": "code",
   "execution_count": 38,
   "metadata": {},
   "outputs": [
    {
     "name": "stdout",
     "output_type": "stream",
     "text": [
      "[62, 10, 76, 34, 35, 7, 23, 40, 49, 25]\n"
     ]
    }
   ],
   "source": [
    "import random\n",
    "\n",
    "list_to_sort = [random.randint(1,100) for _ in range(10)]\n",
    "\n",
    "print(list_to_sort)"
   ]
  },
  {
   "cell_type": "markdown",
   "metadata": {},
   "source": [
    "#### Bubble Sort\n",
    "\n",
    "Worst Case: O(n^2) Time - O(1) Space"
   ]
  },
  {
   "cell_type": "code",
   "execution_count": 40,
   "metadata": {},
   "outputs": [
    {
     "data": {
      "text/plain": [
       "[7, 10, 23, 25, 34, 35, 40, 49, 62, 76]"
      ]
     },
     "execution_count": 40,
     "metadata": {},
     "output_type": "execute_result"
    }
   ],
   "source": [
    "def bubble_sort(lst):\n",
    "    # When we first start, assume list is unsorted\n",
    "    is_sorted = False\n",
    "    # Continue to loop through and bubble the largest values to top if list is unsorted\n",
    "    while not is_sorted:\n",
    "        # Begin the for loop with the assumption that the list is sorted\n",
    "        is_sorted = True\n",
    "        for idx in range(len(lst) - 1):\n",
    "            if lst[idx] > lst[idx+1]:\n",
    "                lst[idx], lst[idx+1] = lst[idx+1], lst[idx]\n",
    "                is_sorted = False\n",
    "    return lst\n",
    "\n",
    "bubble_sort(list_to_sort) # Comparing each one by looping through and the largest one goes to the back"
   ]
  },
  {
   "cell_type": "code",
   "execution_count": 41,
   "metadata": {},
   "outputs": [
    {
     "name": "stdout",
     "output_type": "stream",
     "text": [
      "[7, 10, 23, 25, 34, 35, 40, 49, 62, 76]\n"
     ]
    }
   ],
   "source": [
    "print(list_to_sort)"
   ]
  },
  {
   "cell_type": "markdown",
   "metadata": {},
   "source": [
    "##### Insertion Sort\n",
    "\n",
    "Worst Case: O(n^2) time - O(1)space"
   ]
  },
  {
   "cell_type": "code",
   "execution_count": 47,
   "metadata": {},
   "outputs": [
    {
     "name": "stdout",
     "output_type": "stream",
     "text": [
      "[84, 42, 18, 80, 70, 24, 49, 72, 42, 47]\n"
     ]
    }
   ],
   "source": [
    "list_to_sort = [random.randint(1,100) for _ in range(10)]\n",
    "\n",
    "print(list_to_sort)"
   ]
  },
  {
   "cell_type": "code",
   "execution_count": 50,
   "metadata": {},
   "outputs": [
    {
     "data": {
      "text/plain": [
       "[18, 24, 42, 42, 47, 49, 70, 72, 80, 84]"
      ]
     },
     "execution_count": 50,
     "metadata": {},
     "output_type": "execute_result"
    }
   ],
   "source": [
    "def insertion_sort(lst):\n",
    "    # loop over the unordered section (start at 1 because the 0 index is sorted)\n",
    "    for i in range(1, len(lst)):\n",
    "        # while we are not at the front of the list AND the element is less than the element to its left\n",
    "        while i > 0 and lst[i] < lst[i-1]:\n",
    "            # swap those elements\n",
    "            lst[i], lst[i-1] = lst[i-1], lst[i]\n",
    "            # move our pointer left one element (to match the element we swapped to the left)\n",
    "            i -= 1\n",
    "    return lst\n",
    "\n",
    "insertion_sort(list_to_sort)"
   ]
  },
  {
   "cell_type": "code",
   "execution_count": 51,
   "metadata": {},
   "outputs": [
    {
     "name": "stdout",
     "output_type": "stream",
     "text": [
      "[18, 24, 42, 42, 47, 49, 70, 72, 80, 84]\n"
     ]
    }
   ],
   "source": [
    "print(list_to_sort)"
   ]
  },
  {
   "cell_type": "markdown",
   "metadata": {},
   "source": [
    "## Merge Sort"
   ]
  },
  {
   "cell_type": "markdown",
   "metadata": {},
   "source": [
    "#### How it Works"
   ]
  },
  {
   "cell_type": "code",
   "execution_count": 52,
   "metadata": {},
   "outputs": [
    {
     "name": "stdout",
     "output_type": "stream",
     "text": [
      "[75, 48, 80, 90, 95, 66, 78, 44]\n"
     ]
    }
   ],
   "source": [
    "list_to_sort = [random.randint(1,100) for _ in range(8)]\n",
    "print(list_to_sort)"
   ]
  },
  {
   "cell_type": "code",
   "execution_count": 55,
   "metadata": {},
   "outputs": [
    {
     "data": {
      "text/plain": [
       "[44, 48, 66, 75, 78, 80, 90, 95]"
      ]
     },
     "execution_count": 55,
     "metadata": {},
     "output_type": "execute_result"
    }
   ],
   "source": [
    "def merge_sort(lst):\n",
    "    # If the list is larger than 1 element, split the list\n",
    "    if len(lst) > 1:\n",
    "        midway = len(lst) // 2\n",
    "        left_half = lst[:midway]\n",
    "        right_half = lst[midway:]\n",
    "        \n",
    "        # Recurively call the merge sort on the left half of the list\n",
    "        merge_sort(left_half)\n",
    "        # Once the left half has finished execution, call merge sort on right half\n",
    "        merge_sort(right_half)\n",
    "        \n",
    "        # Merge the right and left half back into the main list using pointers\n",
    "        l = 0 # pointer for the left half of the list\n",
    "        r = 0 # pointer for the right half of the list\n",
    "        m = 0 # pointer for the main list\n",
    "        \n",
    "        # While our left and right pointers are still pointing at valid indeces\n",
    "        while l < len(left_half) and r < len(right_half):\n",
    "            if left_half[l] < right_half[r]:\n",
    "                lst[m] = left_half[l]\n",
    "                l += 1\n",
    "            else:\n",
    "                # place the right list element in the main list\n",
    "                lst[m] = right_half[r]\n",
    "                r += 1\n",
    "            # Either way always move the main pointer to the right one element\n",
    "            m += 1\n",
    "        \n",
    "        # If the right list is exhausted, fill the main list with the sorted left half\n",
    "        while l < len(left_half):\n",
    "            lst[m] = left_half[l]\n",
    "            l += 1\n",
    "            m += 1\n",
    "        while r < len(right_half):\n",
    "            lst[m] = right_half[r]\n",
    "            r += 1\n",
    "            m += 1\n",
    "    \n",
    "    return lst\n",
    "\n",
    "merge_sort(list_to_sort)"
   ]
  },
  {
   "cell_type": "markdown",
   "metadata": {},
   "source": [
    "# Binary Search\n",
    "\n",
    "The Binary Search algorithm works by finding the number in the middle of a given array and comparing it to the target. **Given that the array is sorted**\n",
    "\n",
    "* The worst case run time for this algorithm is `O(log(n))`"
   ]
  },
  {
   "cell_type": "code",
   "execution_count": 59,
   "metadata": {},
   "outputs": [
    {
     "data": {
      "text/plain": [
       "-1"
      ]
     },
     "execution_count": 59,
     "metadata": {},
     "output_type": "execute_result"
    }
   ],
   "source": [
    "# Less == Left\n",
    "# Greater == Right\n",
    "# List of numbers MUST be sorted\n",
    "\n",
    "def binary_search(lst, target_element):\n",
    "    low = 0\n",
    "    high = len(lst) - 1\n",
    "    \n",
    "    while low <= high:\n",
    "        mid = (low + high) // 2\n",
    "        if lst[mid] == target_element:\n",
    "            return f\"The index for {target_element} is {mid}\"\n",
    "        if lst[mid] > target_element:\n",
    "            high = mid - 1\n",
    "        else:\n",
    "            low = mid + 1\n",
    "        \n",
    "    return -1\n",
    "\n",
    "sorted_list = [44, 48, 66, 75, 78, 80, 90, 95]\n",
    "binary_search(sorted_list, 50)"
   ]
  },
  {
   "cell_type": "markdown",
   "metadata": {},
   "source": [
    "# Exercises"
   ]
  },
  {
   "cell_type": "markdown",
   "metadata": {},
   "source": [
    "### Exercise #1 <br>\n",
    "<p>Reverse the list below in-place using an in-place algorithm.<br>For extra credit: Reverse the strings at the same time.</p>"
   ]
  },
  {
   "cell_type": "code",
   "execution_count": 87,
   "metadata": {},
   "outputs": [
    {
     "name": "stdout",
     "output_type": "stream",
     "text": [
      "['this', 'is', 'a', 'sentence', '.']\n",
      "['.', 'sentence', 'a', 'is', 'this']\n",
      "None\n"
     ]
    }
   ],
   "source": [
    "words = ['this' , 'is', 'a', 'sentence', '.']\n",
    "print(words)\n",
    "\n",
    "def swap(words1, index0, index1, index2, index3, index4):\n",
    "    words1[index0], words1[index1], words1[index2], words[index3], words[index4] = words1[index4], words1[index3], words1[index2], words[index1], words[index0]\n",
    "    return words1\n",
    "\n",
    "\n",
    "swapped = swap(words, 0, 1, 2, 3, 4)\n",
    "print(swapped)\n",
    "\n",
    "backwards = swapped.reverse()\n",
    "print(backwards)"
   ]
  },
  {
   "cell_type": "markdown",
   "metadata": {},
   "source": [
    "### Exercise #2 <br>\n",
    "<p>Create a function that counts how many distinct words are in the string below, then outputs a dictionary with the words as the key and the value as the amount of times that word appears in the string.</p>\n",
    "Example Output:<code>{'in': 1, 'computing': 1, 'a': 5, ...}</code>"
   ]
  },
  {
   "cell_type": "code",
   "execution_count": 88,
   "metadata": {
    "scrolled": false
   },
   "outputs": [
    {
     "data": {
      "text/plain": [
       "{'In': 1,\n",
       " 'computing,': 1,\n",
       " 'a': 4,\n",
       " 'hash': 4,\n",
       " 'table': 2,\n",
       " 'map': 2,\n",
       " 'is': 1,\n",
       " 'data': 2,\n",
       " 'structure': 2,\n",
       " 'which': 2,\n",
       " 'implements': 1,\n",
       " 'an': 3,\n",
       " 'associative': 1,\n",
       " 'array': 2,\n",
       " 'abstract': 1,\n",
       " 'type,': 1,\n",
       " 'that': 1,\n",
       " 'can': 2,\n",
       " 'keys': 1,\n",
       " 'to': 2,\n",
       " 'values.': 1,\n",
       " 'A': 1,\n",
       " 'uses': 1,\n",
       " 'function': 1,\n",
       " 'compute': 1,\n",
       " 'index': 1,\n",
       " 'into': 1,\n",
       " 'of': 1,\n",
       " 'buckets': 1,\n",
       " 'or': 1,\n",
       " 'slots': 1,\n",
       " 'from': 1,\n",
       " 'the': 1,\n",
       " 'desired': 1,\n",
       " 'value': 1,\n",
       " 'be': 1,\n",
       " 'found': 1}"
      ]
     },
     "execution_count": 88,
     "metadata": {},
     "output_type": "execute_result"
    }
   ],
   "source": [
    "a_text = 'In computing, a hash table hash map is a data structure which implements an associative array abstract data type, a structure that can map keys to values. A hash table uses a hash function to compute an index into an array of buckets or slots from which the desired value can be found'\n",
    "\n",
    "def word_count(str):\n",
    "    counts = dict()\n",
    "    words = str.split()\n",
    "\n",
    "    for i in words:\n",
    "        if i in counts:\n",
    "            counts[i] += 1\n",
    "        else:\n",
    "            counts[i] = 1\n",
    "    return counts\n",
    "\n",
    "word_count(a_text)"
   ]
  },
  {
   "cell_type": "markdown",
   "metadata": {},
   "source": [
    "## Exercise #3\n",
    "\n",
    "Write a function implementing a Linear Search Algorithm. A linear search is a method for finding an element within a list. It sequentially checks each element of the list until a match is found or the whole list has been searched. If you do not find a match, return -1"
   ]
  },
  {
   "cell_type": "code",
   "execution_count": 78,
   "metadata": {},
   "outputs": [
    {
     "data": {
      "text/plain": [
       "3"
      ]
     },
     "execution_count": 78,
     "metadata": {},
     "output_type": "execute_result"
    }
   ],
   "source": [
    "nums_list = [10,23,45,70,11,15]\n",
    "target = 70\n",
    "\n",
    "def search_num(nums_list, target):\n",
    "    for n in range(len(nums_list)):\n",
    "        if nums_list[n] == target:\n",
    "            return n\n",
    "    else:\n",
    "        return -1\n",
    "\n",
    "search_num(nums_list, 70)"
   ]
  },
  {
   "cell_type": "code",
   "execution_count": null,
   "metadata": {},
   "outputs": [],
   "source": []
  }
 ],
 "metadata": {
  "kernelspec": {
   "display_name": "Python 3 (ipykernel)",
   "language": "python",
   "name": "python3"
  },
  "language_info": {
   "codemirror_mode": {
    "name": "ipython",
    "version": 3
   },
   "file_extension": ".py",
   "mimetype": "text/x-python",
   "name": "python",
   "nbconvert_exporter": "python",
   "pygments_lexer": "ipython3",
   "version": "3.9.12"
  }
 },
 "nbformat": 4,
 "nbformat_minor": 2
}
